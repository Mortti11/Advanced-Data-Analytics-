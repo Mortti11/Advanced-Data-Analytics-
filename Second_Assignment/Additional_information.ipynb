{
 "cells": [
  {
   "cell_type": "markdown",
   "metadata": {},
   "source": [
    "Additional Information\n",
    "\n",
    "We examined codon usage frequencies in the genomic coding DNA of a large sample of diverse organisms from different taxa tabulated in the CUTG database, where we further manually curated and harmonized these existing entries by re-classifying CUTG's bacteria (bct) class into archaea (arc), plasmids (plm), and bacteria proper (keeping with the original label `bct').  The reclassification in the original `bct' domain was simplified by extracting from files `qbxxx.spsum.txt' (where xxx = bct (bacteria), inv (invertebrates), mam (mammals), pln (plants), pri (primates), rod (rodents), vrt (vertebrates)) the different genus names of the entries, and making the classification by genus. There were 514 different genus names.  The different genus categories were checked and relabeled as `arc' where appropriate. In the eubacterial entries, the distinction was made of the bacterial genomes proper (keeping with the original label `bct'), and bacterial plasmids (now labeled `plm').  \n",
    "\n",
    "Following these preprocessing steps, the final dataset file comprises all entries of the CUTG databases qbxxx.spsum.txt in one text file. As detailed above, the qbbct.spsum.txt entries were separated as `bct' (that is, eubacteria), `plm' (plasmids), and `arc' (archaea), a distinction not originally made in the CUTG database.\n"
   ]
  },
  {
   "cell_type": "markdown",
   "metadata": {},
   "source": []
  }
 ],
 "metadata": {
  "kernelspec": {
   "display_name": "venv310",
   "language": "python",
   "name": "python3"
  },
  "language_info": {
   "name": "python",
   "version": "3.10.11"
  }
 },
 "nbformat": 4,
 "nbformat_minor": 2
}
